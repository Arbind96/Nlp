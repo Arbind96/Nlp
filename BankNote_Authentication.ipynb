{
  "nbformat": 4,
  "nbformat_minor": 0,
  "metadata": {
    "colab": {
      "name": "BankNote Authentication.ipynb",
      "provenance": [],
      "authorship_tag": "ABX9TyN0WSvmY3z2mNM4gq6ywz7T",
      "include_colab_link": true
    },
    "kernelspec": {
      "name": "python3",
      "display_name": "Python 3"
    },
    "language_info": {
      "name": "python"
    }
  },
  "cells": [
    {
      "cell_type": "markdown",
      "metadata": {
        "id": "view-in-github",
        "colab_type": "text"
      },
      "source": [
        "<a href=\"https://colab.research.google.com/github/Arbind96/Nlp/blob/main/BankNote_Authentication.ipynb\" target=\"_parent\"><img src=\"https://colab.research.google.com/assets/colab-badge.svg\" alt=\"Open In Colab\"/></a>"
      ]
    },
    {
      "cell_type": "code",
      "metadata": {
        "id": "tBMHl1xUph2-"
      },
      "source": [
        "import numpy as np\n",
        "import pandas as pd\n",
        "import matplotlib.pyplot as plt\n",
        "import seaborn as sns\n",
        "import mpl_toolkits\n",
        "from google.colab import drive\n",
        "from sklearn.model_selection import train_test_split\n",
        "from sklearn.preprocessing import LabelEncoder\n",
        "from sklearn.metrics import accuracy_score\n",
        "from tensorflow.keras import Sequential\n",
        "from tensorflow.keras.layers import Dense\n",
        "from matplotlib import pyplot"
      ],
      "execution_count": 35,
      "outputs": []
    },
    {
      "cell_type": "code",
      "metadata": {
        "colab": {
          "base_uri": "https://localhost:8080/"
        },
        "id": "jxAnQyhOqCZX",
        "outputId": "155d6213-cd00-4614-c5df-a91479bfdfa4"
      },
      "source": [
        "from google.colab import drive\n",
        "drive.mount('/content/drive')"
      ],
      "execution_count": 2,
      "outputs": [
        {
          "output_type": "stream",
          "name": "stdout",
          "text": [
            "Mounted at /content/drive\n"
          ]
        }
      ]
    },
    {
      "cell_type": "code",
      "metadata": {
        "id": "vQ4XEI4tqFZT"
      },
      "source": [
        "path=\"/content/drive/MyDrive/DeepLearning/Assignment/data_banknote_authentication.txt\"\n",
        "data=pd.read_csv(path, header=None)"
      ],
      "execution_count": 6,
      "outputs": []
    },
    {
      "cell_type": "code",
      "metadata": {
        "colab": {
          "base_uri": "https://localhost:8080/"
        },
        "id": "GYFCIjxhqt54",
        "outputId": "383eaf17-faca-40df-879a-4eb620596d70"
      },
      "source": [
        "print(data)"
      ],
      "execution_count": 7,
      "outputs": [
        {
          "output_type": "stream",
          "name": "stdout",
          "text": [
            "            0         1        2        3  4\n",
            "0     3.62160   8.66610  -2.8073 -0.44699  0\n",
            "1     4.54590   8.16740  -2.4586 -1.46210  0\n",
            "2     3.86600  -2.63830   1.9242  0.10645  0\n",
            "3     3.45660   9.52280  -4.0112 -3.59440  0\n",
            "4     0.32924  -4.45520   4.5718 -0.98880  0\n",
            "...       ...       ...      ...      ... ..\n",
            "1367  0.40614   1.34920  -1.4501 -0.55949  1\n",
            "1368 -1.38870  -4.87730   6.4774  0.34179  1\n",
            "1369 -3.75030 -13.45860  17.5932 -2.77710  1\n",
            "1370 -3.56370  -8.38270  12.3930 -1.28230  1\n",
            "1371 -2.54190  -0.65804   2.6842  1.19520  1\n",
            "\n",
            "[1372 rows x 5 columns]\n"
          ]
        }
      ]
    },
    {
      "cell_type": "code",
      "metadata": {
        "colab": {
          "base_uri": "https://localhost:8080/"
        },
        "id": "HWgsHfEcq59f",
        "outputId": "3e26b90c-6d60-4f38-9453-bc3b3fb9437e"
      },
      "source": [
        "data.shape"
      ],
      "execution_count": 8,
      "outputs": [
        {
          "output_type": "execute_result",
          "data": {
            "text/plain": [
              "(1372, 5)"
            ]
          },
          "metadata": {},
          "execution_count": 8
        }
      ]
    },
    {
      "cell_type": "code",
      "metadata": {
        "id": "mYGqrrZyrNgK"
      },
      "source": [
        "X, y = data.values[:, :-1], data.values[:, -1]"
      ],
      "execution_count": 17,
      "outputs": []
    },
    {
      "cell_type": "code",
      "metadata": {
        "id": "XNJzbrUvrK12"
      },
      "source": [
        "# ensure all data are floating point values\n",
        "X = X.astype('float32')\n",
        "# encode strings to integer\n",
        "y = LabelEncoder().fit_transform(y)"
      ],
      "execution_count": 18,
      "outputs": []
    },
    {
      "cell_type": "code",
      "metadata": {
        "id": "eqGqinmvsYBp"
      },
      "source": [
        "# split into train and test datasets\n",
        "X_train, X_test, y_train, y_test = train_test_split(X, y, test_size=0.33)"
      ],
      "execution_count": 19,
      "outputs": []
    },
    {
      "cell_type": "code",
      "metadata": {
        "id": "H37YIc-UsctO"
      },
      "source": [
        "# determine the number of input features\n",
        "n_features = X.shape[1]"
      ],
      "execution_count": 20,
      "outputs": []
    },
    {
      "cell_type": "code",
      "metadata": {
        "id": "D6H7sSDdshCq"
      },
      "source": [
        "# define model\n",
        "model = Sequential()\n",
        "model.add(Dense(10, activation='relu', kernel_initializer='he_normal', input_shape=(n_features,)))\n",
        "model.add(Dense(1, activation='sigmoid'))\n",
        "# compile the model\n",
        "model.compile(optimizer='adam', loss='binary_crossentropy', metrics='acc')"
      ],
      "execution_count": 29,
      "outputs": []
    },
    {
      "cell_type": "code",
      "metadata": {
        "colab": {
          "base_uri": "https://localhost:8080/"
        },
        "id": "UCXEGBQls1Eq",
        "outputId": "9ee71363-9171-4840-cd56-ca3144a292f1"
      },
      "source": [
        "# fit the model\n",
        "history = model.fit(X_train, y_train, epochs=50, batch_size=32, verbose=1, validation_data=(X_test,y_test))"
      ],
      "execution_count": 30,
      "outputs": [
        {
          "output_type": "stream",
          "name": "stdout",
          "text": [
            "Epoch 1/50\n",
            "29/29 [==============================] - 1s 7ms/step - loss: 2.6936 - acc: 0.5800 - val_loss: 2.7072 - val_acc: 0.5497\n",
            "Epoch 2/50\n",
            "29/29 [==============================] - 0s 2ms/step - loss: 2.1921 - acc: 0.5919 - val_loss: 2.1567 - val_acc: 0.5497\n",
            "Epoch 3/50\n",
            "29/29 [==============================] - 0s 3ms/step - loss: 1.7155 - acc: 0.5963 - val_loss: 1.6313 - val_acc: 0.5541\n",
            "Epoch 4/50\n",
            "29/29 [==============================] - 0s 3ms/step - loss: 1.2603 - acc: 0.6094 - val_loss: 1.1432 - val_acc: 0.5806\n",
            "Epoch 5/50\n",
            "29/29 [==============================] - 0s 3ms/step - loss: 0.8624 - acc: 0.6507 - val_loss: 0.7624 - val_acc: 0.6534\n",
            "Epoch 6/50\n",
            "29/29 [==============================] - 0s 3ms/step - loss: 0.5875 - acc: 0.7073 - val_loss: 0.5250 - val_acc: 0.6998\n",
            "Epoch 7/50\n",
            "29/29 [==============================] - 0s 2ms/step - loss: 0.4205 - acc: 0.7595 - val_loss: 0.3942 - val_acc: 0.7660\n",
            "Epoch 8/50\n",
            "29/29 [==============================] - 0s 3ms/step - loss: 0.3216 - acc: 0.8150 - val_loss: 0.3135 - val_acc: 0.8079\n",
            "Epoch 9/50\n",
            "29/29 [==============================] - 0s 2ms/step - loss: 0.2597 - acc: 0.8607 - val_loss: 0.2582 - val_acc: 0.8874\n",
            "Epoch 10/50\n",
            "29/29 [==============================] - 0s 2ms/step - loss: 0.2197 - acc: 0.9151 - val_loss: 0.2258 - val_acc: 0.9205\n",
            "Epoch 11/50\n",
            "29/29 [==============================] - 0s 2ms/step - loss: 0.1958 - acc: 0.9293 - val_loss: 0.2049 - val_acc: 0.9338\n",
            "Epoch 12/50\n",
            "29/29 [==============================] - 0s 3ms/step - loss: 0.1794 - acc: 0.9467 - val_loss: 0.1893 - val_acc: 0.9404\n",
            "Epoch 13/50\n",
            "29/29 [==============================] - 0s 2ms/step - loss: 0.1666 - acc: 0.9532 - val_loss: 0.1771 - val_acc: 0.9470\n",
            "Epoch 14/50\n",
            "29/29 [==============================] - 0s 2ms/step - loss: 0.1560 - acc: 0.9521 - val_loss: 0.1667 - val_acc: 0.9492\n",
            "Epoch 15/50\n",
            "29/29 [==============================] - 0s 2ms/step - loss: 0.1472 - acc: 0.9576 - val_loss: 0.1574 - val_acc: 0.9558\n",
            "Epoch 16/50\n",
            "29/29 [==============================] - 0s 3ms/step - loss: 0.1390 - acc: 0.9608 - val_loss: 0.1494 - val_acc: 0.9558\n",
            "Epoch 17/50\n",
            "29/29 [==============================] - 0s 3ms/step - loss: 0.1315 - acc: 0.9652 - val_loss: 0.1427 - val_acc: 0.9603\n",
            "Epoch 18/50\n",
            "29/29 [==============================] - 0s 3ms/step - loss: 0.1249 - acc: 0.9684 - val_loss: 0.1364 - val_acc: 0.9625\n",
            "Epoch 19/50\n",
            "29/29 [==============================] - 0s 2ms/step - loss: 0.1190 - acc: 0.9695 - val_loss: 0.1310 - val_acc: 0.9625\n",
            "Epoch 20/50\n",
            "29/29 [==============================] - 0s 2ms/step - loss: 0.1138 - acc: 0.9717 - val_loss: 0.1260 - val_acc: 0.9625\n",
            "Epoch 21/50\n",
            "29/29 [==============================] - 0s 2ms/step - loss: 0.1090 - acc: 0.9728 - val_loss: 0.1215 - val_acc: 0.9647\n",
            "Epoch 22/50\n",
            "29/29 [==============================] - 0s 2ms/step - loss: 0.1046 - acc: 0.9728 - val_loss: 0.1174 - val_acc: 0.9647\n",
            "Epoch 23/50\n",
            "29/29 [==============================] - 0s 2ms/step - loss: 0.1006 - acc: 0.9739 - val_loss: 0.1133 - val_acc: 0.9669\n",
            "Epoch 24/50\n",
            "29/29 [==============================] - 0s 2ms/step - loss: 0.0968 - acc: 0.9750 - val_loss: 0.1096 - val_acc: 0.9669\n",
            "Epoch 25/50\n",
            "29/29 [==============================] - 0s 2ms/step - loss: 0.0933 - acc: 0.9761 - val_loss: 0.1059 - val_acc: 0.9691\n",
            "Epoch 26/50\n",
            "29/29 [==============================] - 0s 2ms/step - loss: 0.0899 - acc: 0.9761 - val_loss: 0.1026 - val_acc: 0.9713\n",
            "Epoch 27/50\n",
            "29/29 [==============================] - 0s 2ms/step - loss: 0.0866 - acc: 0.9771 - val_loss: 0.0991 - val_acc: 0.9735\n",
            "Epoch 28/50\n",
            "29/29 [==============================] - 0s 3ms/step - loss: 0.0835 - acc: 0.9793 - val_loss: 0.0959 - val_acc: 0.9735\n",
            "Epoch 29/50\n",
            "29/29 [==============================] - 0s 2ms/step - loss: 0.0807 - acc: 0.9793 - val_loss: 0.0930 - val_acc: 0.9757\n",
            "Epoch 30/50\n",
            "29/29 [==============================] - 0s 2ms/step - loss: 0.0778 - acc: 0.9804 - val_loss: 0.0899 - val_acc: 0.9757\n",
            "Epoch 31/50\n",
            "29/29 [==============================] - 0s 2ms/step - loss: 0.0753 - acc: 0.9815 - val_loss: 0.0871 - val_acc: 0.9757\n",
            "Epoch 32/50\n",
            "29/29 [==============================] - 0s 2ms/step - loss: 0.0727 - acc: 0.9837 - val_loss: 0.0843 - val_acc: 0.9757\n",
            "Epoch 33/50\n",
            "29/29 [==============================] - 0s 2ms/step - loss: 0.0703 - acc: 0.9837 - val_loss: 0.0817 - val_acc: 0.9779\n",
            "Epoch 34/50\n",
            "29/29 [==============================] - 0s 3ms/step - loss: 0.0680 - acc: 0.9869 - val_loss: 0.0792 - val_acc: 0.9801\n",
            "Epoch 35/50\n",
            "29/29 [==============================] - 0s 2ms/step - loss: 0.0658 - acc: 0.9880 - val_loss: 0.0769 - val_acc: 0.9801\n",
            "Epoch 36/50\n",
            "29/29 [==============================] - 0s 3ms/step - loss: 0.0638 - acc: 0.9891 - val_loss: 0.0745 - val_acc: 0.9801\n",
            "Epoch 37/50\n",
            "29/29 [==============================] - 0s 3ms/step - loss: 0.0618 - acc: 0.9891 - val_loss: 0.0723 - val_acc: 0.9801\n",
            "Epoch 38/50\n",
            "29/29 [==============================] - 0s 2ms/step - loss: 0.0598 - acc: 0.9902 - val_loss: 0.0701 - val_acc: 0.9801\n",
            "Epoch 39/50\n",
            "29/29 [==============================] - 0s 3ms/step - loss: 0.0581 - acc: 0.9902 - val_loss: 0.0681 - val_acc: 0.9823\n",
            "Epoch 40/50\n",
            "29/29 [==============================] - 0s 2ms/step - loss: 0.0562 - acc: 0.9902 - val_loss: 0.0662 - val_acc: 0.9868\n",
            "Epoch 41/50\n",
            "29/29 [==============================] - 0s 2ms/step - loss: 0.0546 - acc: 0.9913 - val_loss: 0.0644 - val_acc: 0.9868\n",
            "Epoch 42/50\n",
            "29/29 [==============================] - 0s 2ms/step - loss: 0.0529 - acc: 0.9913 - val_loss: 0.0625 - val_acc: 0.9868\n",
            "Epoch 43/50\n",
            "29/29 [==============================] - 0s 3ms/step - loss: 0.0514 - acc: 0.9913 - val_loss: 0.0606 - val_acc: 0.9868\n",
            "Epoch 44/50\n",
            "29/29 [==============================] - 0s 2ms/step - loss: 0.0499 - acc: 0.9913 - val_loss: 0.0589 - val_acc: 0.9868\n",
            "Epoch 45/50\n",
            "29/29 [==============================] - 0s 2ms/step - loss: 0.0485 - acc: 0.9913 - val_loss: 0.0574 - val_acc: 0.9868\n",
            "Epoch 46/50\n",
            "29/29 [==============================] - 0s 2ms/step - loss: 0.0471 - acc: 0.9935 - val_loss: 0.0559 - val_acc: 0.9868\n",
            "Epoch 47/50\n",
            "29/29 [==============================] - 0s 2ms/step - loss: 0.0458 - acc: 0.9935 - val_loss: 0.0544 - val_acc: 0.9868\n",
            "Epoch 48/50\n",
            "29/29 [==============================] - 0s 2ms/step - loss: 0.0445 - acc: 0.9935 - val_loss: 0.0530 - val_acc: 0.9890\n",
            "Epoch 49/50\n",
            "29/29 [==============================] - 0s 3ms/step - loss: 0.0433 - acc: 0.9935 - val_loss: 0.0515 - val_acc: 0.9912\n",
            "Epoch 50/50\n",
            "29/29 [==============================] - 0s 2ms/step - loss: 0.0421 - acc: 0.9935 - val_loss: 0.0501 - val_acc: 0.9912\n"
          ]
        }
      ]
    },
    {
      "cell_type": "code",
      "metadata": {
        "colab": {
          "base_uri": "https://localhost:8080/"
        },
        "id": "V1mBznP4t6gO",
        "outputId": "af578451-4283-419a-80f5-2f64ec266ecc"
      },
      "source": [
        "loss, accuracy = model.evaluate(X_test, y_test, verbose=0)\n",
        "print('Test loss:', loss)\n",
        "print('Test accuracy:', accuracy)"
      ],
      "execution_count": 31,
      "outputs": [
        {
          "output_type": "stream",
          "name": "stdout",
          "text": [
            "Test loss: 0.05008998140692711\n",
            "Test accuracy: 0.9911699891090393\n"
          ]
        }
      ]
    },
    {
      "cell_type": "code",
      "metadata": {
        "id": "G2WDapT8uNAK"
      },
      "source": [
        "# predict test set and convert to class label\n",
        "ypred = model.predict(X_test)\n",
        "yhat = (ypred > 0.5).flatten().astype(int)"
      ],
      "execution_count": 32,
      "outputs": []
    },
    {
      "cell_type": "code",
      "metadata": {
        "colab": {
          "base_uri": "https://localhost:8080/"
        },
        "id": "5Xy6OF8UuRxA",
        "outputId": "43c7695a-d11c-4a6d-fbe5-3afc6685663a"
      },
      "source": [
        "# evaluate predictions\n",
        "score = accuracy_score(y_test, yhat)\n",
        "print('Accuracy: %.3f' % score)"
      ],
      "execution_count": 33,
      "outputs": [
        {
          "output_type": "stream",
          "name": "stdout",
          "text": [
            "Accuracy: 0.991\n"
          ]
        }
      ]
    },
    {
      "cell_type": "code",
      "metadata": {
        "colab": {
          "base_uri": "https://localhost:8080/",
          "height": 295
        },
        "id": "H2zdhUTtuduB",
        "outputId": "86d7b473-a384-4995-f549-23e8e0b19c68"
      },
      "source": [
        "# plot learning curves\n",
        "pyplot.title('Learning Curves')\n",
        "pyplot.xlabel('Epoch')\n",
        "pyplot.ylabel('Cross Entropy')\n",
        "pyplot.plot(history.history['loss'], label='train')\n",
        "pyplot.plot(history.history['val_loss'], label='val')\n",
        "pyplot.legend()\n",
        "pyplot.show()"
      ],
      "execution_count": 36,
      "outputs": [
        {
          "output_type": "display_data",
          "data": {
            "image/png": "[encoded data removed]",
            "text/plain": [
              "<Figure size 432x288 with 1 Axes>"
            ]
          },
          "metadata": {
            "needs_background": "light"
          }
        }
      ]
    }
  ]
}