{
  "nbformat": 4,
  "nbformat_minor": 0,
  "metadata": {
    "colab": {
      "name": "iris classification.ipynb",
      "provenance": [],
      "authorship_tag": "ABX9TyO4loFypuIfcE2ntDrokTGc",
      "include_colab_link": true
    },
    "kernelspec": {
      "name": "python3",
      "display_name": "Python 3"
    },
    "language_info": {
      "name": "python"
    }
  },
  "cells": [
    {
      "cell_type": "markdown",
      "metadata": {
        "id": "view-in-github",
        "colab_type": "text"
      },
      "source": [
        "<a href=\"https://colab.research.google.com/github/Arbind96/Nlp/blob/main/iris_classification.ipynb\" target=\"_parent\"><img src=\"https://colab.research.google.com/assets/colab-badge.svg\" alt=\"Open In Colab\"/></a>"
      ]
    },
    {
      "cell_type": "code",
      "metadata": {
        "id": "mQOtfwaHGrae"
      },
      "source": [
        "import numpy as np\n",
        "import pandas as pd\n",
        "import matplotlib.pyplot as plt\n",
        "import seaborn as sns\n",
        "import mpl_toolkits\n",
        "from google.colab import drive\n",
        "from sklearn.model_selection import train_test_split"
      ],
      "execution_count": 28,
      "outputs": []
    },
    {
      "cell_type": "code",
      "metadata": {
        "colab": {
          "base_uri": "https://localhost:8080/"
        },
        "id": "Dpl4-tPPGv-u",
        "outputId": "42a6171f-3982-4675-a6c4-43b2cc743b7a"
      },
      "source": [
        "from google.colab import drive\n",
        "drive.mount('/content/drive')"
      ],
      "execution_count": 29,
      "outputs": [
        {
          "output_type": "stream",
          "name": "stdout",
          "text": [
            "Mounted at /content/drive\n"
          ]
        }
      ]
    },
    {
      "cell_type": "code",
      "metadata": {
        "colab": {
          "base_uri": "https://localhost:8080/"
        },
        "id": "vpjoeXvnHynF",
        "outputId": "248a3e02-f47f-46e1-e6db-55e48fc508a9"
      },
      "source": [
        "drive.mount('/content/gdrive')\n",
        "path=\"/content/gdrive/MyDrive/DeepLearning/Assignment/iris data.xlsx\""
      ],
      "execution_count": 30,
      "outputs": [
        {
          "output_type": "stream",
          "name": "stdout",
          "text": [
            "Mounted at /content/gdrive\n"
          ]
        }
      ]
    },
    {
      "cell_type": "code",
      "metadata": {
        "colab": {
          "base_uri": "https://localhost:8080/",
          "height": 206
        },
        "id": "Cbci_1PKJHZh",
        "outputId": "f7f6691f-63ae-499f-ce54-1924e4321aaf"
      },
      "source": [
        "data= pd.read_excel(path)\n",
        "data.head()"
      ],
      "execution_count": 52,
      "outputs": [
        {
          "output_type": "execute_result",
          "data": {
            "text/html": [
              "<div>\n",
              "<style scoped>\n",
              "    .dataframe tbody tr th:only-of-type {\n",
              "        vertical-align: middle;\n",
              "    }\n",
              "\n",
              "    .dataframe tbody tr th {\n",
              "        vertical-align: top;\n",
              "    }\n",
              "\n",
              "    .dataframe thead th {\n",
              "        text-align: right;\n",
              "    }\n",
              "</style>\n",
              "<table border=\"1\" class=\"dataframe\">\n",
              "  <thead>\n",
              "    <tr style=\"text-align: right;\">\n",
              "      <th></th>\n",
              "      <th>Sepal length</th>\n",
              "      <th>Sepal width</th>\n",
              "      <th>Petal length</th>\n",
              "      <th>Petal width</th>\n",
              "      <th>Class</th>\n",
              "    </tr>\n",
              "  </thead>\n",
              "  <tbody>\n",
              "    <tr>\n",
              "      <th>0</th>\n",
              "      <td>5.1</td>\n",
              "      <td>3.5</td>\n",
              "      <td>1.4</td>\n",
              "      <td>0.2</td>\n",
              "      <td>Iris-setosa</td>\n",
              "    </tr>\n",
              "    <tr>\n",
              "      <th>1</th>\n",
              "      <td>4.9</td>\n",
              "      <td>3.0</td>\n",
              "      <td>1.4</td>\n",
              "      <td>0.2</td>\n",
              "      <td>Iris-setosa</td>\n",
              "    </tr>\n",
              "    <tr>\n",
              "      <th>2</th>\n",
              "      <td>4.7</td>\n",
              "      <td>3.2</td>\n",
              "      <td>1.3</td>\n",
              "      <td>0.2</td>\n",
              "      <td>Iris-setosa</td>\n",
              "    </tr>\n",
              "    <tr>\n",
              "      <th>3</th>\n",
              "      <td>4.6</td>\n",
              "      <td>3.1</td>\n",
              "      <td>1.5</td>\n",
              "      <td>0.2</td>\n",
              "      <td>Iris-setosa</td>\n",
              "    </tr>\n",
              "    <tr>\n",
              "      <th>4</th>\n",
              "      <td>5.0</td>\n",
              "      <td>3.6</td>\n",
              "      <td>1.4</td>\n",
              "      <td>0.2</td>\n",
              "      <td>Iris-setosa</td>\n",
              "    </tr>\n",
              "  </tbody>\n",
              "</table>\n",
              "</div>"
            ],
            "text/plain": [
              "   Sepal length  Sepal width  Petal length  Petal width        Class\n",
              "0           5.1          3.5           1.4          0.2  Iris-setosa\n",
              "1           4.9          3.0           1.4          0.2  Iris-setosa\n",
              "2           4.7          3.2           1.3          0.2  Iris-setosa\n",
              "3           4.6          3.1           1.5          0.2  Iris-setosa\n",
              "4           5.0          3.6           1.4          0.2  Iris-setosa"
            ]
          },
          "metadata": {},
          "execution_count": 52
        }
      ]
    },
    {
      "cell_type": "code",
      "metadata": {
        "colab": {
          "base_uri": "https://localhost:8080/"
        },
        "id": "FjixXu1pO_he",
        "outputId": "f4d5f201-427e-4243-9a65-7969e2cdd0de"
      },
      "source": [
        "X = data.iloc[:,0:3].values\n",
        "y = data.iloc[:,4].values\n",
        "print(X[0:5])\n",
        "print(y[0:5])\n"
      ],
      "execution_count": 53,
      "outputs": [
        {
          "output_type": "stream",
          "name": "stdout",
          "text": [
            "[[5.1 3.5 1.4]\n",
            " [4.9 3.  1.4]\n",
            " [4.7 3.2 1.3]\n",
            " [4.6 3.1 1.5]\n",
            " [5.  3.6 1.4]]\n",
            "['Iris-setosa' 'Iris-setosa' 'Iris-setosa' 'Iris-setosa' 'Iris-setosa']\n"
          ]
        }
      ]
    },
    {
      "cell_type": "code",
      "metadata": {
        "colab": {
          "base_uri": "https://localhost:8080/"
        },
        "id": "HOVZsZ4BNkbb",
        "outputId": "0392b501-4ddd-44e8-b465-67008f48bdee"
      },
      "source": [
        "print(X.shape)\n",
        "print(y.shape)"
      ],
      "execution_count": 43,
      "outputs": [
        {
          "output_type": "stream",
          "name": "stdout",
          "text": [
            "(150, 4)\n",
            "(150,)\n"
          ]
        }
      ]
    },
    {
      "cell_type": "code",
      "metadata": {
        "id": "EMPpquxAfbC3"
      },
      "source": [
        "from sklearn.preprocessing import LabelEncoder\n",
        "encoder =  LabelEncoder()\n",
        "y1 = encoder.fit_transform(y)"
      ],
      "execution_count": 54,
      "outputs": []
    },
    {
      "cell_type": "code",
      "metadata": {
        "colab": {
          "base_uri": "https://localhost:8080/"
        },
        "id": "-LGgfKfhfduy",
        "outputId": "a2970028-16df-4687-b1a0-62da3a766e3b"
      },
      "source": [
        "print(y1)"
      ],
      "execution_count": 55,
      "outputs": [
        {
          "output_type": "stream",
          "name": "stdout",
          "text": [
            "[0 0 0 0 0 0 0 0 0 0 0 0 0 0 0 0 0 0 0 0 0 0 0 0 0 0 0 0 0 0 0 0 0 0 0 0 0\n",
            " 0 0 0 0 0 0 0 0 0 0 0 0 0 1 1 1 1 1 1 1 1 1 1 1 1 1 1 1 1 1 1 1 1 1 1 1 1\n",
            " 1 1 1 1 1 1 1 1 1 1 1 1 1 1 1 1 1 1 1 1 1 1 1 1 1 1 2 2 2 2 2 2 2 2 2 2 2\n",
            " 2 2 2 2 2 2 2 2 2 2 2 2 2 2 2 2 2 2 2 2 2 2 2 2 2 2 2 2 2 2 2 2 2 2 2 2 2\n",
            " 2 2]\n"
          ]
        }
      ]
    },
    {
      "cell_type": "code",
      "metadata": {
        "colab": {
          "base_uri": "https://localhost:8080/"
        },
        "id": "1CnmbMfagsgC",
        "outputId": "abe80e52-cf2c-4fb0-cf88-c0368ec6f95f"
      },
      "source": [
        "Y = pd.get_dummies(y1).values\n",
        "print(Y[0:5])"
      ],
      "execution_count": 56,
      "outputs": [
        {
          "output_type": "stream",
          "name": "stdout",
          "text": [
            "[[1 0 0]\n",
            " [1 0 0]\n",
            " [1 0 0]\n",
            " [1 0 0]\n",
            " [1 0 0]]\n"
          ]
        }
      ]
    },
    {
      "cell_type": "code",
      "metadata": {
        "id": "zzVwLxdrOaiO"
      },
      "source": [
        "# Split the data for training and testing\n",
        "X_train, X_test, y_train, y_test = train_test_split(X, Y, test_size=0.2, random_state=0)"
      ],
      "execution_count": 57,
      "outputs": []
    },
    {
      "cell_type": "code",
      "metadata": {
        "colab": {
          "base_uri": "https://localhost:8080/"
        },
        "id": "PDxZyW-mhQXl",
        "outputId": "965a780e-8386-468c-8ffd-3a396c8b4962"
      },
      "source": [
        "print(X_train[0:5])"
      ],
      "execution_count": 58,
      "outputs": [
        {
          "output_type": "stream",
          "name": "stdout",
          "text": [
            "[[6.4 3.1 5.5]\n",
            " [5.4 3.  4.5]\n",
            " [5.2 3.5 1.5]\n",
            " [6.1 3.  4.9]\n",
            " [6.4 2.8 5.6]]\n"
          ]
        }
      ]
    },
    {
      "cell_type": "code",
      "metadata": {
        "colab": {
          "base_uri": "https://localhost:8080/"
        },
        "id": "A3kyzLl7hTtA",
        "outputId": "7495ad5d-71bd-4b72-d9e9-c93cc01e7a09"
      },
      "source": [
        "print(y_train[0:5])"
      ],
      "execution_count": 59,
      "outputs": [
        {
          "output_type": "stream",
          "name": "stdout",
          "text": [
            "[[0 0 1]\n",
            " [0 1 0]\n",
            " [1 0 0]\n",
            " [0 0 1]\n",
            " [0 0 1]]\n"
          ]
        }
      ]
    },
    {
      "cell_type": "code",
      "metadata": {
        "colab": {
          "base_uri": "https://localhost:8080/"
        },
        "id": "vc3_PsG1OE35",
        "outputId": "4fd0b4e2-bd41-49bc-c9a9-6ce3b6290acf"
      },
      "source": [
        "print(X_test[0:5])"
      ],
      "execution_count": 60,
      "outputs": [
        {
          "output_type": "stream",
          "name": "stdout",
          "text": [
            "[[5.8 2.8 5.1]\n",
            " [6.  2.2 4. ]\n",
            " [5.5 4.2 1.4]\n",
            " [7.3 2.9 6.3]\n",
            " [5.  3.4 1.5]]\n"
          ]
        }
      ]
    },
    {
      "cell_type": "code",
      "metadata": {
        "colab": {
          "base_uri": "https://localhost:8080/"
        },
        "id": "U3DMfSXymFGB",
        "outputId": "bcfc28c0-03fd-4b58-8326-3d6fa54328f2"
      },
      "source": [
        "print(y_test[0:5])"
      ],
      "execution_count": 61,
      "outputs": [
        {
          "output_type": "stream",
          "name": "stdout",
          "text": [
            "[[0 0 1]\n",
            " [0 1 0]\n",
            " [1 0 0]\n",
            " [0 0 1]\n",
            " [1 0 0]]\n"
          ]
        }
      ]
    },
    {
      "cell_type": "code",
      "metadata": {
        "id": "--Ik61W9gXT7"
      },
      "source": [
        ""
      ],
      "execution_count": null,
      "outputs": []
    },
    {
      "cell_type": "code",
      "metadata": {
        "id": "xFt4EYjXRHQ2"
      },
      "source": [
        "from tensorflow.keras.models import Sequential\n",
        "import tensorflow as tf\n",
        "from tensorflow.keras.layers import Dense\n",
        "from tensorflow.keras.optimizers import Adam\n",
        "from tensorflow.keras.layers import Dropout\n",
        "\n",
        "#model = Sequential() #Create your base model\n",
        "#model.add(Dense(16,activation='relu')) #Add layer with 8 nodes\n",
        "#model.add(Dropout(0.5))# Add 50% Dropout\n",
        "#model.add(Dense(3,activation='relu'))\n",
        "#model.add(Dropout(0.5))\n",
        "#model.add(Dense(3))\n",
        "model = tf.keras.Sequential([\n",
        "    tf.keras.layers.Dense(64, activation='relu',kernel_regularizer='l2'),\n",
        "    tf.keras.layers.Dense(32, activation='relu',kernel_regularizer='l2'),\n",
        "    tf.keras.layers.Dense(16, activation='relu',kernel_regularizer='l2'),\n",
        "    tf.keras.layers.Dense(3, activation='relu')\n",
        "  ])\n",
        "#model.compile(optimizer='adam', loss='mse',metrics=['accuracy'])\n",
        "model.compile(optimizer='rmsprop',\n",
        "              loss='categorical_crossentropy',\n",
        "              metrics=['accuracy'])"
      ],
      "execution_count": 67,
      "outputs": []
    },
    {
      "cell_type": "code",
      "metadata": {
        "colab": {
          "base_uri": "https://localhost:8080/"
        },
        "id": "SBPDw2-oRS4f",
        "outputId": "7f78c533-1e1d-4246-91f0-107d6c6947f7"
      },
      "source": [
        "#model.fit(X_train, y_train, batch_size=50, epochs=100)\n",
        "model.fit(X_train,y_train,\n",
        "            validation_data=(X_test,y_test),\n",
        "            batch_size=20,epochs=100)"
      ],
      "execution_count": 68,
      "outputs": [
        {
          "output_type": "stream",
          "name": "stdout",
          "text": [
            "Epoch 1/100\n",
            "6/6 [==============================] - 1s 38ms/step - loss: 5.9733 - accuracy: 0.5083 - val_loss: nan - val_accuracy: 0.3667\n",
            "Epoch 2/100\n",
            "6/6 [==============================] - 0s 6ms/step - loss: nan - accuracy: 0.3250 - val_loss: nan - val_accuracy: 0.3667\n",
            "Epoch 3/100\n",
            "6/6 [==============================] - 0s 7ms/step - loss: nan - accuracy: 0.3250 - val_loss: nan - val_accuracy: 0.3667\n",
            "Epoch 4/100\n",
            "6/6 [==============================] - 0s 7ms/step - loss: nan - accuracy: 0.3250 - val_loss: nan - val_accuracy: 0.3667\n",
            "Epoch 5/100\n",
            "6/6 [==============================] - 0s 6ms/step - loss: nan - accuracy: 0.3250 - val_loss: nan - val_accuracy: 0.3667\n",
            "Epoch 6/100\n",
            "6/6 [==============================] - 0s 6ms/step - loss: nan - accuracy: 0.3250 - val_loss: nan - val_accuracy: 0.3667\n",
            "Epoch 7/100\n",
            "6/6 [==============================] - 0s 8ms/step - loss: nan - accuracy: 0.3250 - val_loss: nan - val_accuracy: 0.3667\n",
            "Epoch 8/100\n",
            "6/6 [==============================] - 0s 6ms/step - loss: nan - accuracy: 0.3250 - val_loss: nan - val_accuracy: 0.3667\n",
            "Epoch 9/100\n",
            "6/6 [==============================] - 0s 6ms/step - loss: nan - accuracy: 0.3250 - val_loss: nan - val_accuracy: 0.3667\n",
            "Epoch 10/100\n",
            "6/6 [==============================] - 0s 6ms/step - loss: nan - accuracy: 0.3250 - val_loss: nan - val_accuracy: 0.3667\n",
            "Epoch 11/100\n",
            "6/6 [==============================] - 0s 7ms/step - loss: nan - accuracy: 0.3250 - val_loss: nan - val_accuracy: 0.3667\n",
            "Epoch 12/100\n",
            "6/6 [==============================] - 0s 6ms/step - loss: nan - accuracy: 0.3250 - val_loss: nan - val_accuracy: 0.3667\n",
            "Epoch 13/100\n",
            "6/6 [==============================] - 0s 6ms/step - loss: nan - accuracy: 0.3250 - val_loss: nan - val_accuracy: 0.3667\n",
            "Epoch 14/100\n",
            "6/6 [==============================] - 0s 6ms/step - loss: nan - accuracy: 0.3250 - val_loss: nan - val_accuracy: 0.3667\n",
            "Epoch 15/100\n",
            "6/6 [==============================] - 0s 6ms/step - loss: nan - accuracy: 0.3250 - val_loss: nan - val_accuracy: 0.3667\n",
            "Epoch 16/100\n",
            "6/6 [==============================] - 0s 7ms/step - loss: nan - accuracy: 0.3250 - val_loss: nan - val_accuracy: 0.3667\n",
            "Epoch 17/100\n",
            "6/6 [==============================] - 0s 7ms/step - loss: nan - accuracy: 0.3250 - val_loss: nan - val_accuracy: 0.3667\n",
            "Epoch 18/100\n",
            "6/6 [==============================] - 0s 6ms/step - loss: nan - accuracy: 0.3250 - val_loss: nan - val_accuracy: 0.3667\n",
            "Epoch 19/100\n",
            "6/6 [==============================] - 0s 6ms/step - loss: nan - accuracy: 0.3250 - val_loss: nan - val_accuracy: 0.3667\n",
            "Epoch 20/100\n",
            "6/6 [==============================] - 0s 6ms/step - loss: nan - accuracy: 0.3250 - val_loss: nan - val_accuracy: 0.3667\n",
            "Epoch 21/100\n",
            "6/6 [==============================] - 0s 6ms/step - loss: nan - accuracy: 0.3250 - val_loss: nan - val_accuracy: 0.3667\n",
            "Epoch 22/100\n",
            "6/6 [==============================] - 0s 6ms/step - loss: nan - accuracy: 0.3250 - val_loss: nan - val_accuracy: 0.3667\n",
            "Epoch 23/100\n",
            "6/6 [==============================] - 0s 6ms/step - loss: nan - accuracy: 0.3250 - val_loss: nan - val_accuracy: 0.3667\n",
            "Epoch 24/100\n",
            "6/6 [==============================] - 0s 8ms/step - loss: nan - accuracy: 0.3250 - val_loss: nan - val_accuracy: 0.3667\n",
            "Epoch 25/100\n",
            "6/6 [==============================] - 0s 6ms/step - loss: nan - accuracy: 0.3250 - val_loss: nan - val_accuracy: 0.3667\n",
            "Epoch 26/100\n",
            "6/6 [==============================] - 0s 6ms/step - loss: nan - accuracy: 0.3250 - val_loss: nan - val_accuracy: 0.3667\n",
            "Epoch 27/100\n",
            "6/6 [==============================] - 0s 6ms/step - loss: nan - accuracy: 0.3250 - val_loss: nan - val_accuracy: 0.3667\n",
            "Epoch 28/100\n",
            "6/6 [==============================] - 0s 7ms/step - loss: nan - accuracy: 0.3250 - val_loss: nan - val_accuracy: 0.3667\n",
            "Epoch 29/100\n",
            "6/6 [==============================] - 0s 8ms/step - loss: nan - accuracy: 0.3250 - val_loss: nan - val_accuracy: 0.3667\n",
            "Epoch 30/100\n",
            "6/6 [==============================] - 0s 6ms/step - loss: nan - accuracy: 0.3250 - val_loss: nan - val_accuracy: 0.3667\n",
            "Epoch 31/100\n",
            "6/6 [==============================] - 0s 6ms/step - loss: nan - accuracy: 0.3250 - val_loss: nan - val_accuracy: 0.3667\n",
            "Epoch 32/100\n",
            "6/6 [==============================] - 0s 9ms/step - loss: nan - accuracy: 0.3250 - val_loss: nan - val_accuracy: 0.3667\n",
            "Epoch 33/100\n",
            "6/6 [==============================] - 0s 7ms/step - loss: nan - accuracy: 0.3250 - val_loss: nan - val_accuracy: 0.3667\n",
            "Epoch 34/100\n",
            "6/6 [==============================] - 0s 7ms/step - loss: nan - accuracy: 0.3250 - val_loss: nan - val_accuracy: 0.3667\n",
            "Epoch 35/100\n",
            "6/6 [==============================] - 0s 7ms/step - loss: nan - accuracy: 0.3250 - val_loss: nan - val_accuracy: 0.3667\n",
            "Epoch 36/100\n",
            "6/6 [==============================] - 0s 7ms/step - loss: nan - accuracy: 0.3250 - val_loss: nan - val_accuracy: 0.3667\n",
            "Epoch 37/100\n",
            "6/6 [==============================] - 0s 7ms/step - loss: nan - accuracy: 0.3250 - val_loss: nan - val_accuracy: 0.3667\n",
            "Epoch 38/100\n",
            "6/6 [==============================] - 0s 6ms/step - loss: nan - accuracy: 0.3250 - val_loss: nan - val_accuracy: 0.3667\n",
            "Epoch 39/100\n",
            "6/6 [==============================] - 0s 6ms/step - loss: nan - accuracy: 0.3250 - val_loss: nan - val_accuracy: 0.3667\n",
            "Epoch 40/100\n",
            "6/6 [==============================] - 0s 7ms/step - loss: nan - accuracy: 0.3250 - val_loss: nan - val_accuracy: 0.3667\n",
            "Epoch 41/100\n",
            "6/6 [==============================] - 0s 7ms/step - loss: nan - accuracy: 0.3250 - val_loss: nan - val_accuracy: 0.3667\n",
            "Epoch 42/100\n",
            "6/6 [==============================] - 0s 7ms/step - loss: nan - accuracy: 0.3250 - val_loss: nan - val_accuracy: 0.3667\n",
            "Epoch 43/100\n",
            "6/6 [==============================] - 0s 8ms/step - loss: nan - accuracy: 0.3250 - val_loss: nan - val_accuracy: 0.3667\n",
            "Epoch 44/100\n",
            "6/6 [==============================] - 0s 6ms/step - loss: nan - accuracy: 0.3250 - val_loss: nan - val_accuracy: 0.3667\n",
            "Epoch 45/100\n",
            "6/6 [==============================] - 0s 6ms/step - loss: nan - accuracy: 0.3250 - val_loss: nan - val_accuracy: 0.3667\n",
            "Epoch 46/100\n",
            "6/6 [==============================] - 0s 6ms/step - loss: nan - accuracy: 0.3250 - val_loss: nan - val_accuracy: 0.3667\n",
            "Epoch 47/100\n",
            "6/6 [==============================] - 0s 6ms/step - loss: nan - accuracy: 0.3250 - val_loss: nan - val_accuracy: 0.3667\n",
            "Epoch 48/100\n",
            "6/6 [==============================] - 0s 9ms/step - loss: nan - accuracy: 0.3250 - val_loss: nan - val_accuracy: 0.3667\n",
            "Epoch 49/100\n",
            "6/6 [==============================] - 0s 8ms/step - loss: nan - accuracy: 0.3250 - val_loss: nan - val_accuracy: 0.3667\n",
            "Epoch 50/100\n",
            "6/6 [==============================] - 0s 8ms/step - loss: nan - accuracy: 0.3250 - val_loss: nan - val_accuracy: 0.3667\n",
            "Epoch 51/100\n",
            "6/6 [==============================] - 0s 7ms/step - loss: nan - accuracy: 0.3250 - val_loss: nan - val_accuracy: 0.3667\n",
            "Epoch 52/100\n",
            "6/6 [==============================] - 0s 8ms/step - loss: nan - accuracy: 0.3250 - val_loss: nan - val_accuracy: 0.3667\n",
            "Epoch 53/100\n",
            "6/6 [==============================] - 0s 6ms/step - loss: nan - accuracy: 0.3250 - val_loss: nan - val_accuracy: 0.3667\n",
            "Epoch 54/100\n",
            "6/6 [==============================] - 0s 8ms/step - loss: nan - accuracy: 0.3250 - val_loss: nan - val_accuracy: 0.3667\n",
            "Epoch 55/100\n",
            "6/6 [==============================] - 0s 7ms/step - loss: nan - accuracy: 0.3250 - val_loss: nan - val_accuracy: 0.3667\n",
            "Epoch 56/100\n",
            "6/6 [==============================] - 0s 8ms/step - loss: nan - accuracy: 0.3250 - val_loss: nan - val_accuracy: 0.3667\n",
            "Epoch 57/100\n",
            "6/6 [==============================] - 0s 8ms/step - loss: nan - accuracy: 0.3250 - val_loss: nan - val_accuracy: 0.3667\n",
            "Epoch 58/100\n",
            "6/6 [==============================] - 0s 6ms/step - loss: nan - accuracy: 0.3250 - val_loss: nan - val_accuracy: 0.3667\n",
            "Epoch 59/100\n",
            "6/6 [==============================] - 0s 6ms/step - loss: nan - accuracy: 0.3250 - val_loss: nan - val_accuracy: 0.3667\n",
            "Epoch 60/100\n",
            "6/6 [==============================] - 0s 7ms/step - loss: nan - accuracy: 0.3250 - val_loss: nan - val_accuracy: 0.3667\n",
            "Epoch 61/100\n",
            "6/6 [==============================] - 0s 6ms/step - loss: nan - accuracy: 0.3250 - val_loss: nan - val_accuracy: 0.3667\n",
            "Epoch 62/100\n",
            "6/6 [==============================] - 0s 7ms/step - loss: nan - accuracy: 0.3250 - val_loss: nan - val_accuracy: 0.3667\n",
            "Epoch 63/100\n",
            "6/6 [==============================] - 0s 6ms/step - loss: nan - accuracy: 0.3250 - val_loss: nan - val_accuracy: 0.3667\n",
            "Epoch 64/100\n",
            "6/6 [==============================] - 0s 6ms/step - loss: nan - accuracy: 0.3250 - val_loss: nan - val_accuracy: 0.3667\n",
            "Epoch 65/100\n",
            "6/6 [==============================] - 0s 8ms/step - loss: nan - accuracy: 0.3250 - val_loss: nan - val_accuracy: 0.3667\n",
            "Epoch 66/100\n",
            "6/6 [==============================] - 0s 9ms/step - loss: nan - accuracy: 0.3250 - val_loss: nan - val_accuracy: 0.3667\n",
            "Epoch 67/100\n",
            "6/6 [==============================] - 0s 7ms/step - loss: nan - accuracy: 0.3250 - val_loss: nan - val_accuracy: 0.3667\n",
            "Epoch 68/100\n",
            "6/6 [==============================] - 0s 7ms/step - loss: nan - accuracy: 0.3250 - val_loss: nan - val_accuracy: 0.3667\n",
            "Epoch 69/100\n",
            "6/6 [==============================] - 0s 6ms/step - loss: nan - accuracy: 0.3250 - val_loss: nan - val_accuracy: 0.3667\n",
            "Epoch 70/100\n",
            "6/6 [==============================] - 0s 7ms/step - loss: nan - accuracy: 0.3250 - val_loss: nan - val_accuracy: 0.3667\n",
            "Epoch 71/100\n",
            "6/6 [==============================] - 0s 6ms/step - loss: nan - accuracy: 0.3250 - val_loss: nan - val_accuracy: 0.3667\n",
            "Epoch 72/100\n",
            "6/6 [==============================] - 0s 7ms/step - loss: nan - accuracy: 0.3250 - val_loss: nan - val_accuracy: 0.3667\n",
            "Epoch 73/100\n",
            "6/6 [==============================] - 0s 7ms/step - loss: nan - accuracy: 0.3250 - val_loss: nan - val_accuracy: 0.3667\n",
            "Epoch 74/100\n",
            "6/6 [==============================] - 0s 7ms/step - loss: nan - accuracy: 0.3250 - val_loss: nan - val_accuracy: 0.3667\n",
            "Epoch 75/100\n",
            "6/6 [==============================] - 0s 8ms/step - loss: nan - accuracy: 0.3250 - val_loss: nan - val_accuracy: 0.3667\n",
            "Epoch 76/100\n",
            "6/6 [==============================] - 0s 6ms/step - loss: nan - accuracy: 0.3250 - val_loss: nan - val_accuracy: 0.3667\n",
            "Epoch 77/100\n",
            "6/6 [==============================] - 0s 7ms/step - loss: nan - accuracy: 0.3250 - val_loss: nan - val_accuracy: 0.3667\n",
            "Epoch 78/100\n",
            "6/6 [==============================] - 0s 8ms/step - loss: nan - accuracy: 0.3250 - val_loss: nan - val_accuracy: 0.3667\n",
            "Epoch 79/100\n",
            "6/6 [==============================] - 0s 7ms/step - loss: nan - accuracy: 0.3250 - val_loss: nan - val_accuracy: 0.3667\n",
            "Epoch 80/100\n",
            "6/6 [==============================] - 0s 7ms/step - loss: nan - accuracy: 0.3250 - val_loss: nan - val_accuracy: 0.3667\n",
            "Epoch 81/100\n",
            "6/6 [==============================] - 0s 6ms/step - loss: nan - accuracy: 0.3250 - val_loss: nan - val_accuracy: 0.3667\n",
            "Epoch 82/100\n",
            "6/6 [==============================] - 0s 6ms/step - loss: nan - accuracy: 0.3250 - val_loss: nan - val_accuracy: 0.3667\n",
            "Epoch 83/100\n",
            "6/6 [==============================] - 0s 6ms/step - loss: nan - accuracy: 0.3250 - val_loss: nan - val_accuracy: 0.3667\n",
            "Epoch 84/100\n",
            "6/6 [==============================] - 0s 6ms/step - loss: nan - accuracy: 0.3250 - val_loss: nan - val_accuracy: 0.3667\n",
            "Epoch 85/100\n",
            "6/6 [==============================] - 0s 7ms/step - loss: nan - accuracy: 0.3250 - val_loss: nan - val_accuracy: 0.3667\n",
            "Epoch 86/100\n",
            "6/6 [==============================] - 0s 7ms/step - loss: nan - accuracy: 0.3250 - val_loss: nan - val_accuracy: 0.3667\n",
            "Epoch 87/100\n",
            "6/6 [==============================] - 0s 6ms/step - loss: nan - accuracy: 0.3250 - val_loss: nan - val_accuracy: 0.3667\n",
            "Epoch 88/100\n",
            "6/6 [==============================] - 0s 10ms/step - loss: nan - accuracy: 0.3250 - val_loss: nan - val_accuracy: 0.3667\n",
            "Epoch 89/100\n",
            "6/6 [==============================] - 0s 7ms/step - loss: nan - accuracy: 0.3250 - val_loss: nan - val_accuracy: 0.3667\n",
            "Epoch 90/100\n",
            "6/6 [==============================] - 0s 7ms/step - loss: nan - accuracy: 0.3250 - val_loss: nan - val_accuracy: 0.3667\n",
            "Epoch 91/100\n",
            "6/6 [==============================] - 0s 6ms/step - loss: nan - accuracy: 0.3250 - val_loss: nan - val_accuracy: 0.3667\n",
            "Epoch 92/100\n",
            "6/6 [==============================] - 0s 7ms/step - loss: nan - accuracy: 0.3250 - val_loss: nan - val_accuracy: 0.3667\n",
            "Epoch 93/100\n",
            "6/6 [==============================] - 0s 9ms/step - loss: nan - accuracy: 0.3250 - val_loss: nan - val_accuracy: 0.3667\n",
            "Epoch 94/100\n",
            "6/6 [==============================] - 0s 8ms/step - loss: nan - accuracy: 0.3250 - val_loss: nan - val_accuracy: 0.3667\n",
            "Epoch 95/100\n",
            "6/6 [==============================] - 0s 8ms/step - loss: nan - accuracy: 0.3250 - val_loss: nan - val_accuracy: 0.3667\n",
            "Epoch 96/100\n",
            "6/6 [==============================] - 0s 9ms/step - loss: nan - accuracy: 0.3250 - val_loss: nan - val_accuracy: 0.3667\n",
            "Epoch 97/100\n",
            "6/6 [==============================] - 0s 7ms/step - loss: nan - accuracy: 0.3250 - val_loss: nan - val_accuracy: 0.3667\n",
            "Epoch 98/100\n",
            "6/6 [==============================] - 0s 12ms/step - loss: nan - accuracy: 0.3250 - val_loss: nan - val_accuracy: 0.3667\n",
            "Epoch 99/100\n",
            "6/6 [==============================] - 0s 10ms/step - loss: nan - accuracy: 0.3250 - val_loss: nan - val_accuracy: 0.3667\n",
            "Epoch 100/100\n",
            "6/6 [==============================] - 0s 7ms/step - loss: nan - accuracy: 0.3250 - val_loss: nan - val_accuracy: 0.3667\n"
          ]
        },
        {
          "output_type": "execute_result",
          "data": {
            "text/plain": [
              "<keras.callbacks.History at 0x7f30b36f8a10>"
            ]
          },
          "metadata": {},
          "execution_count": 68
        }
      ]
    },
    {
      "cell_type": "code",
      "metadata": {
        "colab": {
          "base_uri": "https://localhost:8080/"
        },
        "id": "LF3DqV91nISQ",
        "outputId": "9016cfbf-fa1d-4207-c3ab-94088b675192"
      },
      "source": [
        "loss, accuracy = model.evaluate(X_test, y_test, verbose=0)\n",
        "print('Test loss:', loss)\n",
        "print('Test accuracy:', accuracy)"
      ],
      "execution_count": 70,
      "outputs": [
        {
          "output_type": "stream",
          "name": "stdout",
          "text": [
            "Test loss: nan\n",
            "Test accuracy: 0.36666667461395264\n"
          ]
        }
      ]
    }
  ]
}